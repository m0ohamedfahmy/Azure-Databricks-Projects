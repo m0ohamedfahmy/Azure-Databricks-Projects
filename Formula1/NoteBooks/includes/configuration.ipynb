{
 "cells": [
  {
   "cell_type": "code",
   "execution_count": 0,
   "metadata": {
    "application/vnd.databricks.v1+cell": {
     "cellMetadata": {
      "byteLimit": 2048000,
      "rowLimit": 10000
     },
     "inputWidgets": {},
     "nuid": "2d13e8e4-b87d-484b-a9f3-0a5de4580e97",
     "showTitle": false,
     "title": ""
    }
   },
   "outputs": [],
   "source": [
    "raw_folder_path = 'abfss://raw@projectformula1id.dfs.core.windows.net'\n",
    "processed_folder_path = 'abfss://proccessed@projectformula1id.dfs.core.windows.net'\n",
    "presentation_folder_path = 'abfss://presentation@projectformula1id.dfs.core.windows.net'\n",
    "demo_folder_path=\"abfss://demo@projectformula1id.dfs.core.windows.net\""
   ]
  }
 ],
 "metadata": {
  "application/vnd.databricks.v1+notebook": {
   "dashboards": [],
   "environmentMetadata": null,
   "language": "python",
   "notebookMetadata": {
    "mostRecentlyExecutedCommandWithImplicitDF": {
     "commandId": 4304246864591500,
     "dataframes": [
      "_sqldf"
     ]
    },
    "pythonIndentUnit": 4
   },
   "notebookName": "configuration",
   "widgets": {}
  }
 },
 "nbformat": 4,
 "nbformat_minor": 0
}
